{
 "cells": [
  {
   "cell_type": "code",
   "execution_count": 1,
   "metadata": {},
   "outputs": [
    {
     "output_type": "execute_result",
     "data": {
      "text/plain": [
       "5"
      ]
     },
     "metadata": {},
     "execution_count": 1
    }
   ],
   "source": [
    "def fibonacci_simples(n : int) -> int:\n",
    "    if n < 2:\n",
    "        return n\n",
    "    return fibonacci_simples(n-1) + fibonacci_simples(n-2)\n",
    "fibonacci_simples(5)"
   ]
  },
  {
   "cell_type": "code",
   "execution_count": 3,
   "metadata": {},
   "outputs": [
    {
     "output_type": "execute_result",
     "data": {
      "text/plain": [
       "12586269025"
      ]
     },
     "metadata": {},
     "execution_count": 3
    }
   ],
   "source": [
    "from typing import Dict\n",
    "memo: Dict[int, int] = {0: 0, 1: 1}\n",
    "def fibonacci_memoria(n: int) -> int:\n",
    "    if n not in memo:\n",
    "        memo[n] = fibonacci_memoria(n - 1) + fibonacci_memoria(n - 2)\n",
    "    return memo[n]\n",
    "fibonacci_memoria(50)"
   ]
  },
  {
   "cell_type": "code",
   "execution_count": 6,
   "metadata": {},
   "outputs": [
    {
     "output_type": "execute_result",
     "data": {
      "text/plain": [
       "12586269025"
      ]
     },
     "metadata": {},
     "execution_count": 6
    }
   ],
   "source": [
    "from functools import lru_cache\n",
    "@lru_cache(maxsize=None)\n",
    "def fibonacci_simples(n : int) -> int:\n",
    "    if n < 2:\n",
    "        return n\n",
    "    return fibonacci_simples(n-1) + fibonacci_simples(n-2)\n",
    "fibonacci_simples(50)"
   ]
  },
  {
   "cell_type": "code",
   "execution_count": 22,
   "metadata": {},
   "outputs": [
    {
     "output_type": "execute_result",
     "data": {
      "text/plain": [
       "12586269025"
      ]
     },
     "metadata": {},
     "execution_count": 22
    }
   ],
   "source": [
    "def fibonacci_laco_repeticao(n: int) -> int:\n",
    "    if n == 0:\n",
    "        return 0\n",
    "    last: int = 0\n",
    "    next: int = 1\n",
    "    for _ in range(1, n):\n",
    "        last, next = next, last + next\n",
    "    return next\n",
    "fibonacci_laco_repeticao(50)"
   ]
  },
  {
   "cell_type": "code",
   "execution_count": 32,
   "metadata": {},
   "outputs": [
    {
     "output_type": "stream",
     "name": "stdout",
     "text": [
      "0\n1\n1\n2\n3\n5\n8\n13\n21\n34\n55\n89\n144\n233\n377\n610\n987\n1597\n2584\n4181\n6765\n10946\n17711\n28657\n46368\n75025\n121393\n196418\n317811\n514229\n832040\n1346269\n2178309\n3524578\n5702887\n9227465\n14930352\n24157817\n39088169\n63245986\n102334155\n165580141\n267914296\n433494437\n701408733\n1134903170\n1836311903\n2971215073\n4807526976\n7778742049\n12586269025\n"
     ]
    }
   ],
   "source": [
    "from typing import Generator\n",
    "def fibonacci_iterable(n: int)->int:\n",
    "    yield 0\n",
    "    if n > 0:\n",
    "        yield 1\n",
    "    last: int = 0\n",
    "    next: int = 1\n",
    "    for _ in range(1, n):\n",
    "        last, next = next, last + next\n",
    "        yield next\n",
    "for i in fibonacci_iterable(50):\n",
    "    print(i)\n"
   ]
  },
  {
   "cell_type": "code",
   "execution_count": null,
   "metadata": {},
   "outputs": [],
   "source": []
  }
 ],
 "metadata": {
  "kernelspec": {
   "display_name": "Python 3",
   "language": "python",
   "name": "python3"
  },
  "language_info": {
   "codemirror_mode": {
    "name": "ipython",
    "version": 2
   },
   "file_extension": ".py",
   "mimetype": "text/x-python",
   "name": "python",
   "nbconvert_exporter": "python",
   "pygments_lexer": "ipython2",
   "version": "3.8.10"
  },
  "pycharm": {
   "stem_cell": {
    "cell_type": "raw",
    "source": [
     "def fibonacci_simples(n : int) -> int:\n",
     "    if n < 2:\n",
     "        return n\n",
     "    return fibonacci_simples(n-1) + fibonacci_simples(n-2)\n"
    ],
    "metadata": {
     "collapsed": false
    }
   }
  }
 },
 "nbformat": 4,
 "nbformat_minor": 0
}